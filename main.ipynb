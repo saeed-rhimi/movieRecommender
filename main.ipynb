{
 "cells": [
  {
   "cell_type": "code",
   "execution_count": 1,
   "outputs": [],
   "source": [
    "import pandas as pd\n",
    "import numpy as np\n",
    "import json\n",
    "import matplotlib.pyplot as plt\n",
    "import re\n",
    "\n",
    "from sklearn.feature_extraction.text import TfidfVectorizer\n",
    "from sklearn.metrics.pairwise import cosine_similarity\n",
    "\n",
    "import nltk\n",
    "from nltk.corpus import stopwords, wordnet\n",
    "from nltk.tokenize import word_tokenize\n",
    "from nltk.stem import SnowballStemmer, WordNetLemmatizer\n",
    "from nltk import pos_tag"
   ],
   "metadata": {
    "collapsed": false,
    "ExecuteTime": {
     "end_time": "2023-08-30T21:08:47.014789500Z",
     "start_time": "2023-08-30T21:08:44.050674400Z"
    }
   },
   "id": "4368f59dcee28de5"
  },
  {
   "cell_type": "markdown",
   "source": [
    "# Loading DataSet And Create New DataFrame"
   ],
   "metadata": {
    "collapsed": false
   },
   "id": "74bf5f49ff199908"
  },
  {
   "cell_type": "code",
   "execution_count": 2,
   "outputs": [
    {
     "data": {
      "text/plain": "      budget                                             genres  \\\n0  237000000  [{\"id\": 28, \"name\": \"Action\"}, {\"id\": 12, \"nam...   \n1  300000000  [{\"id\": 12, \"name\": \"Adventure\"}, {\"id\": 14, \"...   \n2  245000000  [{\"id\": 28, \"name\": \"Action\"}, {\"id\": 12, \"nam...   \n3  250000000  [{\"id\": 28, \"name\": \"Action\"}, {\"id\": 80, \"nam...   \n4  260000000  [{\"id\": 28, \"name\": \"Action\"}, {\"id\": 12, \"nam...   \n\n                                       homepage      id  \\\n0                   http://www.avatarmovie.com/   19995   \n1  http://disney.go.com/disneypictures/pirates/     285   \n2   http://www.sonypictures.com/movies/spectre/  206647   \n3            http://www.thedarkknightrises.com/   49026   \n4          http://movies.disney.com/john-carter   49529   \n\n                                            keywords original_language  \\\n0  [{\"id\": 1463, \"name\": \"culture clash\"}, {\"id\":...                en   \n1  [{\"id\": 270, \"name\": \"ocean\"}, {\"id\": 726, \"na...                en   \n2  [{\"id\": 470, \"name\": \"spy\"}, {\"id\": 818, \"name...                en   \n3  [{\"id\": 849, \"name\": \"dc comics\"}, {\"id\": 853,...                en   \n4  [{\"id\": 818, \"name\": \"based on novel\"}, {\"id\":...                en   \n\n                             original_title  \\\n0                                    Avatar   \n1  Pirates of the Caribbean: At World's End   \n2                                   Spectre   \n3                     The Dark Knight Rises   \n4                               John Carter   \n\n                                            overview  popularity  \\\n0  In the 22nd century, a paraplegic Marine is di...  150.437577   \n1  Captain Barbossa, long believed to be dead, ha...  139.082615   \n2  A cryptic message from Bond’s past sends him o...  107.376788   \n3  Following the death of District Attorney Harve...  112.312950   \n4  John Carter is a war-weary, former military ca...   43.926995   \n\n                                production_companies  \\\n0  [{\"name\": \"Ingenious Film Partners\", \"id\": 289...   \n1  [{\"name\": \"Walt Disney Pictures\", \"id\": 2}, {\"...   \n2  [{\"name\": \"Columbia Pictures\", \"id\": 5}, {\"nam...   \n3  [{\"name\": \"Legendary Pictures\", \"id\": 923}, {\"...   \n4        [{\"name\": \"Walt Disney Pictures\", \"id\": 2}]   \n\n                                production_countries release_date     revenue  \\\n0  [{\"iso_3166_1\": \"US\", \"name\": \"United States o...   2009-12-10  2787965087   \n1  [{\"iso_3166_1\": \"US\", \"name\": \"United States o...   2007-05-19   961000000   \n2  [{\"iso_3166_1\": \"GB\", \"name\": \"United Kingdom\"...   2015-10-26   880674609   \n3  [{\"iso_3166_1\": \"US\", \"name\": \"United States o...   2012-07-16  1084939099   \n4  [{\"iso_3166_1\": \"US\", \"name\": \"United States o...   2012-03-07   284139100   \n\n   runtime                                   spoken_languages    status  \\\n0    162.0  [{\"iso_639_1\": \"en\", \"name\": \"English\"}, {\"iso...  Released   \n1    169.0           [{\"iso_639_1\": \"en\", \"name\": \"English\"}]  Released   \n2    148.0  [{\"iso_639_1\": \"fr\", \"name\": \"Fran\\u00e7ais\"},...  Released   \n3    165.0           [{\"iso_639_1\": \"en\", \"name\": \"English\"}]  Released   \n4    132.0           [{\"iso_639_1\": \"en\", \"name\": \"English\"}]  Released   \n\n                                          tagline  \\\n0                     Enter the World of Pandora.   \n1  At the end of the world, the adventure begins.   \n2                           A Plan No One Escapes   \n3                                 The Legend Ends   \n4            Lost in our world, found in another.   \n\n                                      title  vote_average  vote_count  \n0                                    Avatar           7.2       11800  \n1  Pirates of the Caribbean: At World's End           6.9        4500  \n2                                   Spectre           6.3        4466  \n3                     The Dark Knight Rises           7.6        9106  \n4                               John Carter           6.1        2124  ",
      "text/html": "<div>\n<style scoped>\n    .dataframe tbody tr th:only-of-type {\n        vertical-align: middle;\n    }\n\n    .dataframe tbody tr th {\n        vertical-align: top;\n    }\n\n    .dataframe thead th {\n        text-align: right;\n    }\n</style>\n<table border=\"1\" class=\"dataframe\">\n  <thead>\n    <tr style=\"text-align: right;\">\n      <th></th>\n      <th>budget</th>\n      <th>genres</th>\n      <th>homepage</th>\n      <th>id</th>\n      <th>keywords</th>\n      <th>original_language</th>\n      <th>original_title</th>\n      <th>overview</th>\n      <th>popularity</th>\n      <th>production_companies</th>\n      <th>production_countries</th>\n      <th>release_date</th>\n      <th>revenue</th>\n      <th>runtime</th>\n      <th>spoken_languages</th>\n      <th>status</th>\n      <th>tagline</th>\n      <th>title</th>\n      <th>vote_average</th>\n      <th>vote_count</th>\n    </tr>\n  </thead>\n  <tbody>\n    <tr>\n      <th>0</th>\n      <td>237000000</td>\n      <td>[{\"id\": 28, \"name\": \"Action\"}, {\"id\": 12, \"nam...</td>\n      <td>http://www.avatarmovie.com/</td>\n      <td>19995</td>\n      <td>[{\"id\": 1463, \"name\": \"culture clash\"}, {\"id\":...</td>\n      <td>en</td>\n      <td>Avatar</td>\n      <td>In the 22nd century, a paraplegic Marine is di...</td>\n      <td>150.437577</td>\n      <td>[{\"name\": \"Ingenious Film Partners\", \"id\": 289...</td>\n      <td>[{\"iso_3166_1\": \"US\", \"name\": \"United States o...</td>\n      <td>2009-12-10</td>\n      <td>2787965087</td>\n      <td>162.0</td>\n      <td>[{\"iso_639_1\": \"en\", \"name\": \"English\"}, {\"iso...</td>\n      <td>Released</td>\n      <td>Enter the World of Pandora.</td>\n      <td>Avatar</td>\n      <td>7.2</td>\n      <td>11800</td>\n    </tr>\n    <tr>\n      <th>1</th>\n      <td>300000000</td>\n      <td>[{\"id\": 12, \"name\": \"Adventure\"}, {\"id\": 14, \"...</td>\n      <td>http://disney.go.com/disneypictures/pirates/</td>\n      <td>285</td>\n      <td>[{\"id\": 270, \"name\": \"ocean\"}, {\"id\": 726, \"na...</td>\n      <td>en</td>\n      <td>Pirates of the Caribbean: At World's End</td>\n      <td>Captain Barbossa, long believed to be dead, ha...</td>\n      <td>139.082615</td>\n      <td>[{\"name\": \"Walt Disney Pictures\", \"id\": 2}, {\"...</td>\n      <td>[{\"iso_3166_1\": \"US\", \"name\": \"United States o...</td>\n      <td>2007-05-19</td>\n      <td>961000000</td>\n      <td>169.0</td>\n      <td>[{\"iso_639_1\": \"en\", \"name\": \"English\"}]</td>\n      <td>Released</td>\n      <td>At the end of the world, the adventure begins.</td>\n      <td>Pirates of the Caribbean: At World's End</td>\n      <td>6.9</td>\n      <td>4500</td>\n    </tr>\n    <tr>\n      <th>2</th>\n      <td>245000000</td>\n      <td>[{\"id\": 28, \"name\": \"Action\"}, {\"id\": 12, \"nam...</td>\n      <td>http://www.sonypictures.com/movies/spectre/</td>\n      <td>206647</td>\n      <td>[{\"id\": 470, \"name\": \"spy\"}, {\"id\": 818, \"name...</td>\n      <td>en</td>\n      <td>Spectre</td>\n      <td>A cryptic message from Bond’s past sends him o...</td>\n      <td>107.376788</td>\n      <td>[{\"name\": \"Columbia Pictures\", \"id\": 5}, {\"nam...</td>\n      <td>[{\"iso_3166_1\": \"GB\", \"name\": \"United Kingdom\"...</td>\n      <td>2015-10-26</td>\n      <td>880674609</td>\n      <td>148.0</td>\n      <td>[{\"iso_639_1\": \"fr\", \"name\": \"Fran\\u00e7ais\"},...</td>\n      <td>Released</td>\n      <td>A Plan No One Escapes</td>\n      <td>Spectre</td>\n      <td>6.3</td>\n      <td>4466</td>\n    </tr>\n    <tr>\n      <th>3</th>\n      <td>250000000</td>\n      <td>[{\"id\": 28, \"name\": \"Action\"}, {\"id\": 80, \"nam...</td>\n      <td>http://www.thedarkknightrises.com/</td>\n      <td>49026</td>\n      <td>[{\"id\": 849, \"name\": \"dc comics\"}, {\"id\": 853,...</td>\n      <td>en</td>\n      <td>The Dark Knight Rises</td>\n      <td>Following the death of District Attorney Harve...</td>\n      <td>112.312950</td>\n      <td>[{\"name\": \"Legendary Pictures\", \"id\": 923}, {\"...</td>\n      <td>[{\"iso_3166_1\": \"US\", \"name\": \"United States o...</td>\n      <td>2012-07-16</td>\n      <td>1084939099</td>\n      <td>165.0</td>\n      <td>[{\"iso_639_1\": \"en\", \"name\": \"English\"}]</td>\n      <td>Released</td>\n      <td>The Legend Ends</td>\n      <td>The Dark Knight Rises</td>\n      <td>7.6</td>\n      <td>9106</td>\n    </tr>\n    <tr>\n      <th>4</th>\n      <td>260000000</td>\n      <td>[{\"id\": 28, \"name\": \"Action\"}, {\"id\": 12, \"nam...</td>\n      <td>http://movies.disney.com/john-carter</td>\n      <td>49529</td>\n      <td>[{\"id\": 818, \"name\": \"based on novel\"}, {\"id\":...</td>\n      <td>en</td>\n      <td>John Carter</td>\n      <td>John Carter is a war-weary, former military ca...</td>\n      <td>43.926995</td>\n      <td>[{\"name\": \"Walt Disney Pictures\", \"id\": 2}]</td>\n      <td>[{\"iso_3166_1\": \"US\", \"name\": \"United States o...</td>\n      <td>2012-03-07</td>\n      <td>284139100</td>\n      <td>132.0</td>\n      <td>[{\"iso_639_1\": \"en\", \"name\": \"English\"}]</td>\n      <td>Released</td>\n      <td>Lost in our world, found in another.</td>\n      <td>John Carter</td>\n      <td>6.1</td>\n      <td>2124</td>\n    </tr>\n  </tbody>\n</table>\n</div>"
     },
     "execution_count": 2,
     "metadata": {},
     "output_type": "execute_result"
    }
   ],
   "source": [
    "df = pd.read_csv('tmdb_5000_movies.csv')\n",
    "\n",
    "# Create an empty DataFrame\n",
    "movies = pd.DataFrame()\n",
    "\n",
    "df.head()"
   ],
   "metadata": {
    "collapsed": false,
    "ExecuteTime": {
     "end_time": "2023-08-30T21:08:47.173317300Z",
     "start_time": "2023-08-30T21:08:47.019777700Z"
    }
   },
   "id": "845bc9c7c3730f05"
  },
  {
   "cell_type": "code",
   "execution_count": 3,
   "outputs": [
    {
     "data": {
      "text/plain": "budget                                                          237000000\ngenres                  [{\"id\": 28, \"name\": \"Action\"}, {\"id\": 12, \"nam...\nhomepage                                      http://www.avatarmovie.com/\nid                                                                  19995\nkeywords                [{\"id\": 1463, \"name\": \"culture clash\"}, {\"id\":...\noriginal_language                                                      en\noriginal_title                                                     Avatar\noverview                In the 22nd century, a paraplegic Marine is di...\npopularity                                                     150.437577\nproduction_companies    [{\"name\": \"Ingenious Film Partners\", \"id\": 289...\nproduction_countries    [{\"iso_3166_1\": \"US\", \"name\": \"United States o...\nrelease_date                                                   2009-12-10\nrevenue                                                        2787965087\nruntime                                                             162.0\nspoken_languages        [{\"iso_639_1\": \"en\", \"name\": \"English\"}, {\"iso...\nstatus                                                           Released\ntagline                                       Enter the World of Pandora.\ntitle                                                              Avatar\nvote_average                                                          7.2\nvote_count                                                          11800\nName: 0, dtype: object"
     },
     "execution_count": 3,
     "metadata": {},
     "output_type": "execute_result"
    }
   ],
   "source": [
    "df.iloc[0]"
   ],
   "metadata": {
    "collapsed": false,
    "ExecuteTime": {
     "end_time": "2023-08-30T21:08:47.191277600Z",
     "start_time": "2023-08-30T21:08:47.176309300Z"
    }
   },
   "id": "26068f0f3d0b7511"
  },
  {
   "cell_type": "markdown",
   "source": [
    "# Checking If There Is Any Difference in Title and Original Title"
   ],
   "metadata": {
    "collapsed": false
   },
   "id": "5d302480d73c9db4"
  },
  {
   "cell_type": "code",
   "execution_count": 4,
   "outputs": [
    {
     "data": {
      "text/plain": "         budget                                             genres  \\\n97     15000000  [{\"id\": 28, \"name\": \"Action\"}, {\"id\": 12, \"nam...   \n215   130000000  [{\"id\": 12, \"name\": \"Adventure\"}, {\"id\": 14, \"...   \n235    97250400  [{\"id\": 14, \"name\": \"Fantasy\"}, {\"id\": 12, \"na...   \n317    94000000  [{\"id\": 18, \"name\": \"Drama\"}, {\"id\": 36, \"name...   \n474           0  [{\"id\": 9648, \"name\": \"Mystery\"}, {\"id\": 18, \"...   \n...         ...                                                ...   \n4699          0                      [{\"id\": 18, \"name\": \"Drama\"}]   \n4719     120000  [{\"id\": 18, \"name\": \"Drama\"}, {\"id\": 10749, \"n...   \n4751          0  [{\"id\": 18, \"name\": \"Drama\"}, {\"id\": 10749, \"n...   \n4790          0  [{\"id\": 18, \"name\": \"Drama\"}, {\"id\": 10769, \"n...   \n4792      20000  [{\"id\": 80, \"name\": \"Crime\"}, {\"id\": 27, \"name...   \n\n                                               homepage      id  \\\n97                                                  NaN  315011   \n215                                                 NaN    1979   \n235   http://www.asterixauxjeuxolympiques.com/index.php    2395   \n317                http://www.theflowersofwarmovie.com/   76758   \n474                                                 NaN  330770   \n...                                                 ...     ...   \n4699                                                NaN  344466   \n4719                                                NaN   40652   \n4751                                                NaN   42109   \n4790                                                NaN   13898   \n4792                                                NaN   36095   \n\n                                               keywords original_language  \\\n97    [{\"id\": 1299, \"name\": \"monster\"}, {\"id\": 7671,...                ja   \n215   [{\"id\": 657, \"name\": \"fire\"}, {\"id\": 720, \"nam...                en   \n235   [{\"id\": 271, \"name\": \"competition\"}, {\"id\": 12...                fr   \n317   [{\"id\": 173251, \"name\": \"forced prostitution\"}...                zh   \n474   [{\"id\": 428, \"name\": \"nurse\"}, {\"id\": 658, \"na...                fr   \n...                                                 ...               ...   \n4699                                                 []                ro   \n4719  [{\"id\": 1965, \"name\": \"sandstorm\"}, {\"id\": 151...                fr   \n4751                                                 []                pt   \n4790                                                 []                fa   \n4792  [{\"id\": 233, \"name\": \"japan\"}, {\"id\": 549, \"na...                ja   \n\n                                         original_title  \\\n97                                               シン・ゴジラ   \n215                        4: Rise of the Silver Surfer   \n235                         Astérix aux Jeux Olympiques   \n317                                               金陵十三釵   \n474                                           Évolution   \n...                                                 ...   \n4699                                      Lumea e a mea   \n4719  Une femme mariée: Suite de fragments d'un film...   \n4751                           Gabriela, Cravo e Canela   \n4790                                              دایره   \n4792                                                キュア   \n\n                                               overview  popularity  \\\n97    From the mind behind Evangelion comes a hit la...    9.476999   \n215   The Fantastic Four return to the big screen as...   60.810723   \n235   Astérix and Obélix have to win the Olympic Gam...   20.344364   \n317   A Westerner finds refuge with a group of women...   12.516546   \n474   11-year-old Nicolas lives with his mother in a...    3.300061   \n...                                                 ...         ...   \n4699  Larisa is 16 and lives in a city by the sea. I...    0.327622   \n4719  Charlotte is young and modern, not a hair out ...    1.112792   \n4751  In 1925, Gabriela becomes cook, mistress, and ...    0.557602   \n4790  Various women struggle to function in the oppr...    1.193779   \n4792  A wave of gruesome murders is sweeping Tokyo. ...    0.212443   \n\n                                   production_companies  \\\n97    [{\"name\": \"Cine Bazar\", \"id\": 5896}, {\"name\": ...   \n215   [{\"name\": \"Ingenious Film Partners\", \"id\": 289...   \n235   [{\"name\": \"Constantin Film\", \"id\": 47}, {\"name...   \n317   [{\"name\": \"Beijing New Picture Film Co. Ltd.\",...   \n474   [{\"name\": \"Ex Nihilo\", \"id\": 3307}, {\"name\": \"...   \n...                                                 ...   \n4699                                                 []   \n4719  [{\"name\": \"Orsay Films\", \"id\": 2325}, {\"name\":...   \n4751  [{\"name\": \"United Artists\", \"id\": 60}, {\"name\"...   \n4790  [{\"name\": \"Jafar Panahi Film Productions\", \"id...   \n4792             [{\"name\": \"Daiei Studios\", \"id\": 881}]   \n\n                                   production_countries release_date  \\\n97              [{\"iso_3166_1\": \"JP\", \"name\": \"Japan\"}]   2016-07-29   \n215   [{\"iso_3166_1\": \"DE\", \"name\": \"Germany\"}, {\"is...   2007-06-13   \n235   [{\"iso_3166_1\": \"BE\", \"name\": \"Belgium\"}, {\"is...   2008-01-13   \n317   [{\"iso_3166_1\": \"CN\", \"name\": \"China\"}, {\"iso_...   2011-12-15   \n474   [{\"iso_3166_1\": \"BE\", \"name\": \"Belgium\"}, {\"is...   2015-09-14   \n...                                                 ...          ...   \n4699          [{\"iso_3166_1\": \"RO\", \"name\": \"Romania\"}]   2015-06-05   \n4719           [{\"iso_3166_1\": \"FR\", \"name\": \"France\"}]   1964-12-04   \n4751           [{\"iso_3166_1\": \"BR\", \"name\": \"Brazil\"}]   1983-03-24   \n4790             [{\"iso_3166_1\": \"IR\", \"name\": \"Iran\"}]   2000-09-08   \n4792            [{\"iso_3166_1\": \"JP\", \"name\": \"Japan\"}]   1997-11-06   \n\n        revenue  runtime                                   spoken_languages  \\\n97     77000000    120.0  [{\"iso_639_1\": \"it\", \"name\": \"Italiano\"}, {\"is...   \n215   289047763     92.0  [{\"iso_639_1\": \"en\", \"name\": \"English\"}, {\"iso...   \n235   132900000    116.0  [{\"iso_639_1\": \"fr\", \"name\": \"Fran\\u00e7ais\"},...   \n317    95311434    145.0  [{\"iso_639_1\": \"zh\", \"name\": \"\\u666e\\u901a\\u8b...   \n474           0     81.0     [{\"iso_639_1\": \"fr\", \"name\": \"Fran\\u00e7ais\"}]   \n...         ...      ...                                                ...   \n4699          0    104.0  [{\"iso_639_1\": \"ro\", \"name\": \"Rom\\u00e2n\\u0103\"}]   \n4719          0     95.0     [{\"iso_639_1\": \"fr\", \"name\": \"Fran\\u00e7ais\"}]   \n4751          0     99.0    [{\"iso_639_1\": \"pt\", \"name\": \"Portugu\\u00eas\"}]   \n4790          0     90.0  [{\"iso_639_1\": \"fa\", \"name\": \"\\u0641\\u0627\\u06...   \n4792      99000    111.0  [{\"iso_639_1\": \"ja\", \"name\": \"\\u65e5\\u672c\\u8a...   \n\n        status                                      tagline  \\\n97    Released              A god incarnate. A city doomed.   \n215   Released           Discover the secret of the Surfer.   \n235   Released                                          NaN   \n317   Released                                          NaN   \n474   Released                                          NaN   \n...        ...                                          ...   \n4699  Released                                          NaN   \n4719  Released  She Loves Two Men... She is Married to One!   \n4751  Released                                          NaN   \n4790  Released                                          NaN   \n4792  Released                     Madness. Terror. Murder.   \n\n                                       title  vote_average  vote_count  \n97                             Shin Godzilla           6.5         143  \n215   Fantastic 4: Rise of the Silver Surfer           5.4        2589  \n235             Asterix at the Olympic Games           5.0         471  \n317                       The Flowers of War           7.1         187  \n474                                Evolution           6.4          47  \n...                                      ...           ...         ...  \n4699                       The World Is Mine           0.0           0  \n4719                       The Married Woman           7.1          20  \n4751                                Gabriela           6.0           2  \n4790                              The Circle           6.6          17  \n4792                                    Cure           7.4          63  \n\n[261 rows x 20 columns]",
      "text/html": "<div>\n<style scoped>\n    .dataframe tbody tr th:only-of-type {\n        vertical-align: middle;\n    }\n\n    .dataframe tbody tr th {\n        vertical-align: top;\n    }\n\n    .dataframe thead th {\n        text-align: right;\n    }\n</style>\n<table border=\"1\" class=\"dataframe\">\n  <thead>\n    <tr style=\"text-align: right;\">\n      <th></th>\n      <th>budget</th>\n      <th>genres</th>\n      <th>homepage</th>\n      <th>id</th>\n      <th>keywords</th>\n      <th>original_language</th>\n      <th>original_title</th>\n      <th>overview</th>\n      <th>popularity</th>\n      <th>production_companies</th>\n      <th>production_countries</th>\n      <th>release_date</th>\n      <th>revenue</th>\n      <th>runtime</th>\n      <th>spoken_languages</th>\n      <th>status</th>\n      <th>tagline</th>\n      <th>title</th>\n      <th>vote_average</th>\n      <th>vote_count</th>\n    </tr>\n  </thead>\n  <tbody>\n    <tr>\n      <th>97</th>\n      <td>15000000</td>\n      <td>[{\"id\": 28, \"name\": \"Action\"}, {\"id\": 12, \"nam...</td>\n      <td>NaN</td>\n      <td>315011</td>\n      <td>[{\"id\": 1299, \"name\": \"monster\"}, {\"id\": 7671,...</td>\n      <td>ja</td>\n      <td>シン・ゴジラ</td>\n      <td>From the mind behind Evangelion comes a hit la...</td>\n      <td>9.476999</td>\n      <td>[{\"name\": \"Cine Bazar\", \"id\": 5896}, {\"name\": ...</td>\n      <td>[{\"iso_3166_1\": \"JP\", \"name\": \"Japan\"}]</td>\n      <td>2016-07-29</td>\n      <td>77000000</td>\n      <td>120.0</td>\n      <td>[{\"iso_639_1\": \"it\", \"name\": \"Italiano\"}, {\"is...</td>\n      <td>Released</td>\n      <td>A god incarnate. A city doomed.</td>\n      <td>Shin Godzilla</td>\n      <td>6.5</td>\n      <td>143</td>\n    </tr>\n    <tr>\n      <th>215</th>\n      <td>130000000</td>\n      <td>[{\"id\": 12, \"name\": \"Adventure\"}, {\"id\": 14, \"...</td>\n      <td>NaN</td>\n      <td>1979</td>\n      <td>[{\"id\": 657, \"name\": \"fire\"}, {\"id\": 720, \"nam...</td>\n      <td>en</td>\n      <td>4: Rise of the Silver Surfer</td>\n      <td>The Fantastic Four return to the big screen as...</td>\n      <td>60.810723</td>\n      <td>[{\"name\": \"Ingenious Film Partners\", \"id\": 289...</td>\n      <td>[{\"iso_3166_1\": \"DE\", \"name\": \"Germany\"}, {\"is...</td>\n      <td>2007-06-13</td>\n      <td>289047763</td>\n      <td>92.0</td>\n      <td>[{\"iso_639_1\": \"en\", \"name\": \"English\"}, {\"iso...</td>\n      <td>Released</td>\n      <td>Discover the secret of the Surfer.</td>\n      <td>Fantastic 4: Rise of the Silver Surfer</td>\n      <td>5.4</td>\n      <td>2589</td>\n    </tr>\n    <tr>\n      <th>235</th>\n      <td>97250400</td>\n      <td>[{\"id\": 14, \"name\": \"Fantasy\"}, {\"id\": 12, \"na...</td>\n      <td>http://www.asterixauxjeuxolympiques.com/index.php</td>\n      <td>2395</td>\n      <td>[{\"id\": 271, \"name\": \"competition\"}, {\"id\": 12...</td>\n      <td>fr</td>\n      <td>Astérix aux Jeux Olympiques</td>\n      <td>Astérix and Obélix have to win the Olympic Gam...</td>\n      <td>20.344364</td>\n      <td>[{\"name\": \"Constantin Film\", \"id\": 47}, {\"name...</td>\n      <td>[{\"iso_3166_1\": \"BE\", \"name\": \"Belgium\"}, {\"is...</td>\n      <td>2008-01-13</td>\n      <td>132900000</td>\n      <td>116.0</td>\n      <td>[{\"iso_639_1\": \"fr\", \"name\": \"Fran\\u00e7ais\"},...</td>\n      <td>Released</td>\n      <td>NaN</td>\n      <td>Asterix at the Olympic Games</td>\n      <td>5.0</td>\n      <td>471</td>\n    </tr>\n    <tr>\n      <th>317</th>\n      <td>94000000</td>\n      <td>[{\"id\": 18, \"name\": \"Drama\"}, {\"id\": 36, \"name...</td>\n      <td>http://www.theflowersofwarmovie.com/</td>\n      <td>76758</td>\n      <td>[{\"id\": 173251, \"name\": \"forced prostitution\"}...</td>\n      <td>zh</td>\n      <td>金陵十三釵</td>\n      <td>A Westerner finds refuge with a group of women...</td>\n      <td>12.516546</td>\n      <td>[{\"name\": \"Beijing New Picture Film Co. Ltd.\",...</td>\n      <td>[{\"iso_3166_1\": \"CN\", \"name\": \"China\"}, {\"iso_...</td>\n      <td>2011-12-15</td>\n      <td>95311434</td>\n      <td>145.0</td>\n      <td>[{\"iso_639_1\": \"zh\", \"name\": \"\\u666e\\u901a\\u8b...</td>\n      <td>Released</td>\n      <td>NaN</td>\n      <td>The Flowers of War</td>\n      <td>7.1</td>\n      <td>187</td>\n    </tr>\n    <tr>\n      <th>474</th>\n      <td>0</td>\n      <td>[{\"id\": 9648, \"name\": \"Mystery\"}, {\"id\": 18, \"...</td>\n      <td>NaN</td>\n      <td>330770</td>\n      <td>[{\"id\": 428, \"name\": \"nurse\"}, {\"id\": 658, \"na...</td>\n      <td>fr</td>\n      <td>Évolution</td>\n      <td>11-year-old Nicolas lives with his mother in a...</td>\n      <td>3.300061</td>\n      <td>[{\"name\": \"Ex Nihilo\", \"id\": 3307}, {\"name\": \"...</td>\n      <td>[{\"iso_3166_1\": \"BE\", \"name\": \"Belgium\"}, {\"is...</td>\n      <td>2015-09-14</td>\n      <td>0</td>\n      <td>81.0</td>\n      <td>[{\"iso_639_1\": \"fr\", \"name\": \"Fran\\u00e7ais\"}]</td>\n      <td>Released</td>\n      <td>NaN</td>\n      <td>Evolution</td>\n      <td>6.4</td>\n      <td>47</td>\n    </tr>\n    <tr>\n      <th>...</th>\n      <td>...</td>\n      <td>...</td>\n      <td>...</td>\n      <td>...</td>\n      <td>...</td>\n      <td>...</td>\n      <td>...</td>\n      <td>...</td>\n      <td>...</td>\n      <td>...</td>\n      <td>...</td>\n      <td>...</td>\n      <td>...</td>\n      <td>...</td>\n      <td>...</td>\n      <td>...</td>\n      <td>...</td>\n      <td>...</td>\n      <td>...</td>\n      <td>...</td>\n    </tr>\n    <tr>\n      <th>4699</th>\n      <td>0</td>\n      <td>[{\"id\": 18, \"name\": \"Drama\"}]</td>\n      <td>NaN</td>\n      <td>344466</td>\n      <td>[]</td>\n      <td>ro</td>\n      <td>Lumea e a mea</td>\n      <td>Larisa is 16 and lives in a city by the sea. I...</td>\n      <td>0.327622</td>\n      <td>[]</td>\n      <td>[{\"iso_3166_1\": \"RO\", \"name\": \"Romania\"}]</td>\n      <td>2015-06-05</td>\n      <td>0</td>\n      <td>104.0</td>\n      <td>[{\"iso_639_1\": \"ro\", \"name\": \"Rom\\u00e2n\\u0103\"}]</td>\n      <td>Released</td>\n      <td>NaN</td>\n      <td>The World Is Mine</td>\n      <td>0.0</td>\n      <td>0</td>\n    </tr>\n    <tr>\n      <th>4719</th>\n      <td>120000</td>\n      <td>[{\"id\": 18, \"name\": \"Drama\"}, {\"id\": 10749, \"n...</td>\n      <td>NaN</td>\n      <td>40652</td>\n      <td>[{\"id\": 1965, \"name\": \"sandstorm\"}, {\"id\": 151...</td>\n      <td>fr</td>\n      <td>Une femme mariée: Suite de fragments d'un film...</td>\n      <td>Charlotte is young and modern, not a hair out ...</td>\n      <td>1.112792</td>\n      <td>[{\"name\": \"Orsay Films\", \"id\": 2325}, {\"name\":...</td>\n      <td>[{\"iso_3166_1\": \"FR\", \"name\": \"France\"}]</td>\n      <td>1964-12-04</td>\n      <td>0</td>\n      <td>95.0</td>\n      <td>[{\"iso_639_1\": \"fr\", \"name\": \"Fran\\u00e7ais\"}]</td>\n      <td>Released</td>\n      <td>She Loves Two Men... She is Married to One!</td>\n      <td>The Married Woman</td>\n      <td>7.1</td>\n      <td>20</td>\n    </tr>\n    <tr>\n      <th>4751</th>\n      <td>0</td>\n      <td>[{\"id\": 18, \"name\": \"Drama\"}, {\"id\": 10749, \"n...</td>\n      <td>NaN</td>\n      <td>42109</td>\n      <td>[]</td>\n      <td>pt</td>\n      <td>Gabriela, Cravo e Canela</td>\n      <td>In 1925, Gabriela becomes cook, mistress, and ...</td>\n      <td>0.557602</td>\n      <td>[{\"name\": \"United Artists\", \"id\": 60}, {\"name\"...</td>\n      <td>[{\"iso_3166_1\": \"BR\", \"name\": \"Brazil\"}]</td>\n      <td>1983-03-24</td>\n      <td>0</td>\n      <td>99.0</td>\n      <td>[{\"iso_639_1\": \"pt\", \"name\": \"Portugu\\u00eas\"}]</td>\n      <td>Released</td>\n      <td>NaN</td>\n      <td>Gabriela</td>\n      <td>6.0</td>\n      <td>2</td>\n    </tr>\n    <tr>\n      <th>4790</th>\n      <td>0</td>\n      <td>[{\"id\": 18, \"name\": \"Drama\"}, {\"id\": 10769, \"n...</td>\n      <td>NaN</td>\n      <td>13898</td>\n      <td>[]</td>\n      <td>fa</td>\n      <td>دایره</td>\n      <td>Various women struggle to function in the oppr...</td>\n      <td>1.193779</td>\n      <td>[{\"name\": \"Jafar Panahi Film Productions\", \"id...</td>\n      <td>[{\"iso_3166_1\": \"IR\", \"name\": \"Iran\"}]</td>\n      <td>2000-09-08</td>\n      <td>0</td>\n      <td>90.0</td>\n      <td>[{\"iso_639_1\": \"fa\", \"name\": \"\\u0641\\u0627\\u06...</td>\n      <td>Released</td>\n      <td>NaN</td>\n      <td>The Circle</td>\n      <td>6.6</td>\n      <td>17</td>\n    </tr>\n    <tr>\n      <th>4792</th>\n      <td>20000</td>\n      <td>[{\"id\": 80, \"name\": \"Crime\"}, {\"id\": 27, \"name...</td>\n      <td>NaN</td>\n      <td>36095</td>\n      <td>[{\"id\": 233, \"name\": \"japan\"}, {\"id\": 549, \"na...</td>\n      <td>ja</td>\n      <td>キュア</td>\n      <td>A wave of gruesome murders is sweeping Tokyo. ...</td>\n      <td>0.212443</td>\n      <td>[{\"name\": \"Daiei Studios\", \"id\": 881}]</td>\n      <td>[{\"iso_3166_1\": \"JP\", \"name\": \"Japan\"}]</td>\n      <td>1997-11-06</td>\n      <td>99000</td>\n      <td>111.0</td>\n      <td>[{\"iso_639_1\": \"ja\", \"name\": \"\\u65e5\\u672c\\u8a...</td>\n      <td>Released</td>\n      <td>Madness. Terror. Murder.</td>\n      <td>Cure</td>\n      <td>7.4</td>\n      <td>63</td>\n    </tr>\n  </tbody>\n</table>\n<p>261 rows × 20 columns</p>\n</div>"
     },
     "execution_count": 4,
     "metadata": {},
     "output_type": "execute_result"
    }
   ],
   "source": [
    "df[df['title'] != df['original_title']]"
   ],
   "metadata": {
    "collapsed": false,
    "ExecuteTime": {
     "end_time": "2023-08-30T21:08:47.317655100Z",
     "start_time": "2023-08-30T21:08:47.188285700Z"
    }
   },
   "id": "f98f1958e28feea5"
  },
  {
   "cell_type": "markdown",
   "source": [
    "# Checking If There Is Any UnReleased Movies And Removing Them From DataSet"
   ],
   "metadata": {
    "collapsed": false
   },
   "id": "56d96a49b687f41f"
  },
  {
   "cell_type": "code",
   "execution_count": 5,
   "outputs": [
    {
     "data": {
      "text/plain": "<Figure size 800x600 with 1 Axes>",
      "image/png": "[encoded data removed]"
     },
     "metadata": {},
     "output_type": "display_data"
    }
   ],
   "source": [
    "# Create a histogram of 'status' column with value counts displayed on bars\n",
    "plt.figure(figsize=(8, 6))\n",
    "status_counts = df['status'].value_counts()\n",
    "status_counts.plot(kind='bar', color='c', alpha=0.7)\n",
    "\n",
    "# Display value counts on top of the bars\n",
    "for i, count in enumerate(status_counts):\n",
    "    plt.text(i, count + 10, str(count), ha='center', fontsize=10)\n",
    "\n",
    "plt.xlabel('Status')\n",
    "plt.ylabel('Frequency')\n",
    "plt.title('Status Histogram with Value Counts')\n",
    "plt.xticks(rotation=45)\n",
    "plt.tight_layout()\n",
    "\n",
    "# Show the histogram\n",
    "plt.show()"
   ],
   "metadata": {
    "collapsed": false,
    "ExecuteTime": {
     "end_time": "2023-08-30T21:08:47.645423200Z",
     "start_time": "2023-08-30T21:08:47.229888800Z"
    }
   },
   "id": "eef6b96f600ac520"
  },
  {
   "cell_type": "code",
   "execution_count": 6,
   "outputs": [],
   "source": [
    "# Find indices of rows with status 'Rumored' or 'Post Production'\n",
    "indices_to_remove = df[(df['status'] == 'Rumored') | (df['status'] == 'Post Production')].index\n",
    "\n",
    "# Remove the identified rows from the DataFrame\n",
    "df = df.drop(indices_to_remove)"
   ],
   "metadata": {
    "collapsed": false,
    "ExecuteTime": {
     "end_time": "2023-08-30T21:08:47.670820100Z",
     "start_time": "2023-08-30T21:08:47.645423200Z"
    }
   },
   "id": "8758f0bb0f729742"
  },
  {
   "cell_type": "code",
   "execution_count": 7,
   "outputs": [
    {
     "data": {
      "text/plain": "<Figure size 800x600 with 1 Axes>",
      "image/png": "[encoded data removed]"
     },
     "metadata": {},
     "output_type": "display_data"
    }
   ],
   "source": [
    "# Create a histogram of 'status' column with value counts displayed on bars\n",
    "plt.figure(figsize=(8, 6))\n",
    "status_counts = df['status'].value_counts()\n",
    "status_counts.plot(kind='bar', color='c', alpha=0.7)\n",
    "\n",
    "# Display value counts on top of the bars\n",
    "for i, count in enumerate(status_counts):\n",
    "    plt.text(i, count + 10, str(count), ha='center', fontsize=10)\n",
    "\n",
    "plt.xlabel('Status')\n",
    "plt.ylabel('Frequency')\n",
    "plt.title('Status Histogram with Value Counts')\n",
    "plt.xticks(rotation=45)\n",
    "plt.tight_layout()\n",
    "\n",
    "# Show the histogram\n",
    "plt.show()"
   ],
   "metadata": {
    "collapsed": false,
    "ExecuteTime": {
     "end_time": "2023-08-30T21:08:47.924972700Z",
     "start_time": "2023-08-30T21:08:47.658851500Z"
    }
   },
   "id": "c02a4c782d2bc9e1"
  },
  {
   "cell_type": "markdown",
   "source": [
    "# Extract Important Features To New DataFrame"
   ],
   "metadata": {
    "collapsed": false
   },
   "id": "61fb7097b8b10d59"
  },
  {
   "cell_type": "code",
   "execution_count": 8,
   "outputs": [],
   "source": [
    "movies['title'] = df['title']\n",
    "\n",
    "# Define a function to extract attributes from JSON\n",
    "def extract_attributes(attr_str):\n",
    "    attributes = json.loads(attr_str)\n",
    "    attribute_names = [attr[\"name\"] for attr in attributes]\n",
    "    return \", \".join(attribute_names)\n",
    "\n",
    "# Apply the function to the 'genres' column and create a new column 'genres'\n",
    "movies['genres'] = df['genres'].apply(extract_attributes)\n",
    "\n",
    "# Apply the function to the 'keywords' column and create a new column 'extracted_keywords'\n",
    "movies['keywords'] = df['keywords'].apply(extract_attributes)\n",
    "\n",
    "# movies['original_language'] = df['original_language']\n",
    "\n",
    "# movies['overview'] = df['overview']\n",
    "\n",
    "# movies['spoken_languages'] = df['spoken_languages'].apply(extract_attributes)\n",
    "\n",
    "# movies['tagline'] = df['tagline']"
   ],
   "metadata": {
    "collapsed": false,
    "ExecuteTime": {
     "end_time": "2023-08-30T21:08:48.096554100Z",
     "start_time": "2023-08-30T21:08:47.925970200Z"
    }
   },
   "id": "3fbbf15203bd20a8"
  },
  {
   "cell_type": "code",
   "execution_count": 9,
   "outputs": [
    {
     "data": {
      "text/plain": "                                         title  \\\n0                                       Avatar   \n1     Pirates of the Caribbean: At World's End   \n2                                      Spectre   \n3                        The Dark Knight Rises   \n4                                  John Carter   \n...                                        ...   \n4798                               El Mariachi   \n4799                                 Newlyweds   \n4800                 Signed, Sealed, Delivered   \n4801                          Shanghai Calling   \n4802                         My Date with Drew   \n\n                                           genres  \\\n0     Action, Adventure, Fantasy, Science Fiction   \n1                      Adventure, Fantasy, Action   \n2                        Action, Adventure, Crime   \n3                  Action, Crime, Drama, Thriller   \n4              Action, Adventure, Science Fiction   \n...                                           ...   \n4798                      Action, Crime, Thriller   \n4799                              Comedy, Romance   \n4800             Comedy, Drama, Romance, TV Movie   \n4801                                                \n4802                                  Documentary   \n\n                                               keywords  \n0     culture clash, future, space war, space colony...  \n1     ocean, drug abuse, exotic island, east india t...  \n2     spy, based on novel, secret agent, sequel, mi6...  \n3     dc comics, crime fighter, terrorist, secret id...  \n4     based on novel, mars, medallion, space travel,...  \n...                                                 ...  \n4798  united states–mexico barrier, legs, arms, pape...  \n4799                                                     \n4800  date, love at first sight, narration, investig...  \n4801                                                     \n4802            obsession, camcorder, crush, dream girl  \n\n[4795 rows x 3 columns]",
      "text/html": "<div>\n<style scoped>\n    .dataframe tbody tr th:only-of-type {\n        vertical-align: middle;\n    }\n\n    .dataframe tbody tr th {\n        vertical-align: top;\n    }\n\n    .dataframe thead th {\n        text-align: right;\n    }\n</style>\n<table border=\"1\" class=\"dataframe\">\n  <thead>\n    <tr style=\"text-align: right;\">\n      <th></th>\n      <th>title</th>\n      <th>genres</th>\n      <th>keywords</th>\n    </tr>\n  </thead>\n  <tbody>\n    <tr>\n      <th>0</th>\n      <td>Avatar</td>\n      <td>Action, Adventure, Fantasy, Science Fiction</td>\n      <td>culture clash, future, space war, space colony...</td>\n    </tr>\n    <tr>\n      <th>1</th>\n      <td>Pirates of the Caribbean: At World's End</td>\n      <td>Adventure, Fantasy, Action</td>\n      <td>ocean, drug abuse, exotic island, east india t...</td>\n    </tr>\n    <tr>\n      <th>2</th>\n      <td>Spectre</td>\n      <td>Action, Adventure, Crime</td>\n      <td>spy, based on novel, secret agent, sequel, mi6...</td>\n    </tr>\n    <tr>\n      <th>3</th>\n      <td>The Dark Knight Rises</td>\n      <td>Action, Crime, Drama, Thriller</td>\n      <td>dc comics, crime fighter, terrorist, secret id...</td>\n    </tr>\n    <tr>\n      <th>4</th>\n      <td>John Carter</td>\n      <td>Action, Adventure, Science Fiction</td>\n      <td>based on novel, mars, medallion, space travel,...</td>\n    </tr>\n    <tr>\n      <th>...</th>\n      <td>...</td>\n      <td>...</td>\n      <td>...</td>\n    </tr>\n    <tr>\n      <th>4798</th>\n      <td>El Mariachi</td>\n      <td>Action, Crime, Thriller</td>\n      <td>united states–mexico barrier, legs, arms, pape...</td>\n    </tr>\n    <tr>\n      <th>4799</th>\n      <td>Newlyweds</td>\n      <td>Comedy, Romance</td>\n      <td></td>\n    </tr>\n    <tr>\n      <th>4800</th>\n      <td>Signed, Sealed, Delivered</td>\n      <td>Comedy, Drama, Romance, TV Movie</td>\n      <td>date, love at first sight, narration, investig...</td>\n    </tr>\n    <tr>\n      <th>4801</th>\n      <td>Shanghai Calling</td>\n      <td></td>\n      <td></td>\n    </tr>\n    <tr>\n      <th>4802</th>\n      <td>My Date with Drew</td>\n      <td>Documentary</td>\n      <td>obsession, camcorder, crush, dream girl</td>\n    </tr>\n  </tbody>\n</table>\n<p>4795 rows × 3 columns</p>\n</div>"
     },
     "execution_count": 9,
     "metadata": {},
     "output_type": "execute_result"
    }
   ],
   "source": [
    "movies"
   ],
   "metadata": {
    "collapsed": false,
    "ExecuteTime": {
     "end_time": "2023-08-30T21:08:48.097555700Z",
     "start_time": "2023-08-30T21:08:48.016836900Z"
    }
   },
   "id": "4b76c24f1cda4eba"
  },
  {
   "cell_type": "markdown",
   "source": [
    "# Checking If There Is Any Null Value"
   ],
   "metadata": {
    "collapsed": false
   },
   "id": "1c3139681fc79f36"
  },
  {
   "cell_type": "code",
   "execution_count": 10,
   "outputs": [
    {
     "data": {
      "text/plain": "title       0\ngenres      0\nkeywords    0\ndtype: int64"
     },
     "execution_count": 10,
     "metadata": {},
     "output_type": "execute_result"
    }
   ],
   "source": [
    "# Check for null values in the DataFrame\n",
    "movies.isnull().sum()"
   ],
   "metadata": {
    "collapsed": false,
    "ExecuteTime": {
     "end_time": "2023-08-30T21:08:48.098548800Z",
     "start_time": "2023-08-30T21:08:48.032833600Z"
    }
   },
   "id": "f467452c8192846e"
  },
  {
   "cell_type": "markdown",
   "source": [
    "# Downloading NLTK Datasets"
   ],
   "metadata": {
    "collapsed": false
   },
   "id": "9e0b00135b0211a"
  },
  {
   "cell_type": "code",
   "execution_count": 11,
   "outputs": [
    {
     "name": "stderr",
     "output_type": "stream",
     "text": [
      "[nltk_data] Downloading package punkt to\n",
      "[nltk_data]     C:\\Users\\Saeed\\AppData\\Roaming\\nltk_data...\n",
      "[nltk_data]   Package punkt is already up-to-date!\n",
      "[nltk_data] Downloading package stopwords to\n",
      "[nltk_data]     C:\\Users\\Saeed\\AppData\\Roaming\\nltk_data...\n",
      "[nltk_data]   Package stopwords is already up-to-date!\n",
      "[nltk_data] Downloading package wordnet to\n",
      "[nltk_data]     C:\\Users\\Saeed\\AppData\\Roaming\\nltk_data...\n",
      "[nltk_data]   Package wordnet is already up-to-date!\n",
      "[nltk_data] Downloading package averaged_perceptron_tagger to\n",
      "[nltk_data]     C:\\Users\\Saeed\\AppData\\Roaming\\nltk_data...\n",
      "[nltk_data]   Package averaged_perceptron_tagger is already up-to-\n",
      "[nltk_data]       date!\n"
     ]
    },
    {
     "data": {
      "text/plain": "True"
     },
     "execution_count": 11,
     "metadata": {},
     "output_type": "execute_result"
    }
   ],
   "source": [
    "nltk.download('punkt')  # Download NLTK data for tokenization if not already downloaded\n",
    "nltk.download('stopwords')  # Download NLTK data for stopwords if not already downloaded\n",
    "nltk.download('wordnet')  # Download NLTK data for WordNet if not already downloaded\n",
    "nltk.download('averaged_perceptron_tagger')  # Download NLTK data for POS tagger if not already downloaded"
   ],
   "metadata": {
    "collapsed": false,
    "ExecuteTime": {
     "end_time": "2023-08-30T21:08:49.479185600Z",
     "start_time": "2023-08-30T21:08:48.049679900Z"
    }
   },
   "id": "c61a281876c3fc16"
  },
  {
   "cell_type": "markdown",
   "source": [
    "# PreProcess The Data and Removing Stop Words And NonAlphabetic Chars Using Lemmatization and Pos Technic"
   ],
   "metadata": {
    "collapsed": false
   },
   "id": "fcfbe0da18a5930c"
  },
  {
   "cell_type": "code",
   "execution_count": 12,
   "outputs": [],
   "source": [
    "def text_preprocessor(data):\n",
    "    # Load English stopwords\n",
    "    stop_words = set(stopwords.words('english'))\n",
    "    \n",
    "    # Initialize the SnowballStemmer with English language\n",
    "    # stemmer = SnowballStemmer(\"english\")\n",
    "    \n",
    "    # Initialize the WordNetLemmatizer\n",
    "    lemmatizer = WordNetLemmatizer()\n",
    "    \n",
    "    # Mapping between Penn Treebank POS tags and WordNet POS tags\n",
    "    def penn_to_wordnet_pos(tag):\n",
    "        if tag.startswith('N'):\n",
    "            return wordnet.NOUN\n",
    "        elif tag.startswith('V'):\n",
    "            return wordnet.VERB\n",
    "        elif tag.startswith('J'):\n",
    "            return wordnet.ADJ\n",
    "        elif tag.startswith('R'):\n",
    "            return wordnet.ADV\n",
    "        else:\n",
    "            return wordnet.NOUN  # Default to noun\n",
    "    \n",
    "    # Tokenize and preprocess the text data\n",
    "    def preprocess_text(text):\n",
    "        tokens = word_tokenize(text)  # Tokenize the text\n",
    "        tokens = [token.lower() for token in tokens if token.isalpha()]  # Keep only alphabetic tokens\n",
    "        tokens = [token for token in tokens if token not in stop_words]  # Remove stopwords\n",
    "        pos_tags = pos_tag(tokens)  # Get part of speech tags\n",
    "        # stemmed_tokens = [stemmer.stem(token) for token in tokens]  # Apply Snowball stemmer\n",
    "        # lemmatized_tokens = [lemmatizer.lemmatize(token) for token, pos in pos_tags]  # Apply lemmatization without POS\n",
    "        lemmatized_tokens = [lemmatizer.lemmatize(token, pos=penn_to_wordnet_pos(pos)) for token, pos in pos_tags]  # Apply lemmatization with POS\n",
    "        return \" \".join(lemmatized_tokens)  # Join the tokens back into a string\n",
    "    \n",
    "    return data[:].apply(preprocess_text)"
   ],
   "metadata": {
    "collapsed": false,
    "ExecuteTime": {
     "end_time": "2023-08-30T21:08:49.483178500Z",
     "start_time": "2023-08-30T21:08:49.472291500Z"
    }
   },
   "id": "33b60a890e09a849"
  },
  {
   "cell_type": "markdown",
   "source": [
    "# Converting a multi-part word into a single part in order to keep their meaning together and to be able to use them better to make suggestions"
   ],
   "metadata": {
    "collapsed": false
   },
   "id": "9491e89d3f0a6c6b"
  },
  {
   "cell_type": "code",
   "execution_count": 13,
   "outputs": [],
   "source": [
    "# Function to remove spaces between words in a cell\n",
    "def remove_spaces(cell):\n",
    "    return ', '.join(word.replace(' ', '') for word in cell.split(', '))\n",
    "\n",
    "# Apply the function only to the genres and keywords columns\n",
    "movies['genres'] = movies['genres'].apply(remove_spaces) \n",
    "movies['keywords'] = movies['keywords'].apply(remove_spaces)"
   ],
   "metadata": {
    "collapsed": false,
    "ExecuteTime": {
     "end_time": "2023-08-30T21:08:49.578092200Z",
     "start_time": "2023-08-30T21:08:49.484177100Z"
    }
   },
   "id": "14ea221f6e40bc6"
  },
  {
   "cell_type": "markdown",
   "source": [
    "# Converting the contents of all columns to a single String And PreProcess Them"
   ],
   "metadata": {
    "collapsed": false
   },
   "id": "73ac967ad93f07d2"
  },
  {
   "cell_type": "code",
   "execution_count": 14,
   "outputs": [],
   "source": [
    "# Convert all columns except title column to strings and then add them together with a comma separator\n",
    "movies['all_columns_values'] = movies.drop(columns=['title']).astype(str).apply(lambda row: ', '.join(row), axis=1)\n",
    "\n",
    "preprocessed_text = text_preprocessor(movies['all_columns_values'])"
   ],
   "metadata": {
    "collapsed": false,
    "ExecuteTime": {
     "end_time": "2023-08-30T21:08:59.413492200Z",
     "start_time": "2023-08-30T21:08:49.538202100Z"
    }
   },
   "id": "d140c049a956ab80"
  },
  {
   "cell_type": "code",
   "execution_count": 15,
   "outputs": [
    {
     "data": {
      "text/plain": "0       action adventure fantasy sciencefiction cultur...\n1       adventure fantasy action ocean drugabuse exoti...\n2       action adventure crime spy basedonnovel secret...\n3       action crime drama thriller dccomics crimefigh...\n4       action adventure sciencefiction basedonnovel m...\n                              ...                        \n4798    action crime thriller leg arm paperknife guita...\n4799                                       comedy romance\n4800    comedy drama romance tvmovie date loveatfirsts...\n4801                                                     \n4802      documentary obsession camcorder crush dreamgirl\nName: all_columns_values, Length: 4795, dtype: object"
     },
     "execution_count": 15,
     "metadata": {},
     "output_type": "execute_result"
    }
   ],
   "source": [
    "preprocessed_text"
   ],
   "metadata": {
    "collapsed": false,
    "ExecuteTime": {
     "end_time": "2023-08-30T21:08:59.431905100Z",
     "start_time": "2023-08-30T21:08:59.418478Z"
    }
   },
   "id": "a9cc9ed841687ff0"
  },
  {
   "cell_type": "markdown",
   "source": [
    "# Counting Words Using TF-IDF Vectorizer Methode And Build Recommender Function Using Cosine_Similarity"
   ],
   "metadata": {
    "collapsed": false
   },
   "id": "83c70d664c0a31e3"
  },
  {
   "cell_type": "code",
   "execution_count": 16,
   "outputs": [],
   "source": [
    "# Initialize the TF-IDF vectorizer\n",
    "tfidf_vectorizer = TfidfVectorizer()\n",
    "\n",
    "# Fit and transform the \"book_name\" column\n",
    "tfidf_matrix = tfidf_vectorizer.fit_transform(preprocessed_text)\n",
    "\n",
    "# Calculate cosine similarity for all document pairs\n",
    "cosine_sim = cosine_similarity(tfidf_matrix)\n",
    "\n",
    "def recommender(movie_name):\n",
    "    # Find the index of the \"Avatar\" movie\n",
    "    movie_index = movies[movies['title'] == movie_name].index[0]\n",
    "    \n",
    "    # Find the indices of the 5 most similar documents to the query vector\n",
    "    most_similar_indices = np.argsort(cosine_sim[movie_index])[-6:-1][::-1]\n",
    "    \n",
    "    # Get the most similar documents\n",
    "    return movies['title'].iloc[most_similar_indices]"
   ],
   "metadata": {
    "collapsed": false,
    "ExecuteTime": {
     "end_time": "2023-08-30T21:08:59.862901600Z",
     "start_time": "2023-08-30T21:08:59.439885200Z"
    }
   },
   "id": "b8e85dd991fcf3a6"
  },
  {
   "cell_type": "code",
   "execution_count": 17,
   "outputs": [
    {
     "name": "stdout",
     "output_type": "stream",
     "text": [
      "Most Similar Movies to Scream 3: \n"
     ]
    },
    {
     "data": {
      "text/plain": "4628                          Graduation Day\n4053        Friday the 13th: A New Beginning\n4048                             The Calling\n3902    Friday the 13th Part VI: Jason Lives\n2637                       Felicia's Journey\nName: title, dtype: object"
     },
     "execution_count": 17,
     "metadata": {},
     "output_type": "execute_result"
    }
   ],
   "source": [
    "movie_to_recommend = 'Scream 3'\n",
    "\n",
    "most_similar_Movies = recommender(movie_to_recommend)\n",
    "\n",
    "print(f\"Most Similar Movies to {movie_to_recommend}: \")\n",
    "most_similar_Movies"
   ],
   "metadata": {
    "collapsed": false,
    "ExecuteTime": {
     "end_time": "2023-08-30T21:08:59.884980Z",
     "start_time": "2023-08-30T21:08:59.865894500Z"
    }
   },
   "id": "54fef4463c241024"
  },
  {
   "cell_type": "markdown",
   "source": [
    "# Plotting Similarity Scores"
   ],
   "metadata": {
    "collapsed": false
   },
   "id": "7f044b5f1eca31bd"
  },
  {
   "cell_type": "code",
   "execution_count": 18,
   "outputs": [
    {
     "data": {
      "text/plain": "<Figure size 1000x600 with 1 Axes>",
      "image/png": "[encoded data removed]"
     },
     "metadata": {},
     "output_type": "display_data"
    }
   ],
   "source": [
    "def plot_similarity_scores(movie_name):\n",
    "    # Find the index of the movie\n",
    "    movie_index = movies[movies['title'] == movie_name].index[0]\n",
    "    \n",
    "    # Get the similarity scores for the searched movie\n",
    "    similarity_scores = cosine_sim[movie_index]\n",
    "    # Remove the similarity score for the searched movie itself\n",
    "    similarity_scores = np.delete(similarity_scores, movie_index)\n",
    "    \n",
    "    \n",
    "    # Plot the similarity scores\n",
    "    plt.figure(figsize=(10, 6))\n",
    "    plt.plot(similarity_scores[(-similarity_scores).argsort()])\n",
    "    plt.show()\n",
    "\n",
    "# Call the plot_similarity_matrix function with the movie name you want to search for\n",
    "plot_similarity_scores(\"Scream 3\")"
   ],
   "metadata": {
    "collapsed": false,
    "ExecuteTime": {
     "end_time": "2023-08-30T21:09:00.088087200Z",
     "start_time": "2023-08-30T21:08:59.885977400Z"
    }
   },
   "id": "6c20af2e7a470ea0"
  },
  {
   "cell_type": "code",
   "execution_count": null,
   "outputs": [],
   "source": [],
   "metadata": {
    "collapsed": false
   },
   "id": "c98c901a0fa05c15"
  }
 ],
 "metadata": {
  "kernelspec": {
   "display_name": "Python 3",
   "language": "python",
   "name": "python3"
  },
  "language_info": {
   "codemirror_mode": {
    "name": "ipython",
    "version": 2
   },
   "file_extension": ".py",
   "mimetype": "text/x-python",
   "name": "python",
   "nbconvert_exporter": "python",
   "pygments_lexer": "ipython2",
   "version": "2.7.6"
  }
 },
 "nbformat": 4,
 "nbformat_minor": 5
}
